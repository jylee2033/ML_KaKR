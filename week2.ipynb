{
 "cells": [
  {
   "attachments": {},
   "cell_type": "markdown",
   "id": "829d6cb2",
   "metadata": {},
   "source": [
    "##### From Week 1"
   ]
  },
  {
   "cell_type": "code",
   "execution_count": 2,
   "id": "2b14155a",
   "metadata": {},
   "outputs": [
    {
     "name": "stdout",
     "output_type": "stream",
     "text": [
      "(15035, 19)\n",
      "(6468, 19)\n"
     ]
    }
   ],
   "source": [
    "import warnings\n",
    "warnings.filterwarnings('ignore')\n",
    "\n",
    "import os\n",
    "from os.path import join\n",
    "\n",
    "import pandas as pd\n",
    "import numpy as np\n",
    "\n",
    "from sklearn.ensemble import GradientBoostingRegressor\n",
    "from sklearn.model_selection import KFold, cross_val_score\n",
    "import xgboost as xgb\n",
    "import xgboost as xgb\n",
    "import lightgbm as lgb\n",
    "\n",
    "import seaborn as sns\n",
    "import matplotlib.pyplot as plt\n",
    "\n",
    "# %matplotlib inline\n",
    "# %config InlineBackend.figure_format = 'retina'\n",
    "\n",
    "train_data_path = join('./data/train.csv')\n",
    "sub_data_path = join('./data/test.csv')\n",
    "\n",
    "data = pd.read_csv(train_data_path)\n",
    "sub = pd.read_csv(sub_data_path)\n",
    "\n",
    "y = data['price']\n",
    "del data['price']\n",
    "\n",
    "train_len = len(data)\n",
    "data = pd.concat((data, sub), axis=0)\n",
    "\n",
    "sub_id = data['id'][train_len:]\n",
    "del data['id']\n",
    "\n",
    "data['date'] = data['date'].apply(lambda x : str(x[:6])).astype(int)\n",
    "\n",
    "skew_columns = ['bedrooms', 'sqft_living', 'sqft_lot', 'sqft_above', 'sqft_basement']\n",
    "\n",
    "for c in skew_columns:\n",
    "    data[c] = np.log1p(data[c].values)\n",
    "\n",
    "y_log_transformation = np.log1p(y)\n",
    "\n",
    "sub = data.iloc[train_len:, :] \n",
    "x = data.iloc[:train_len, :] \n",
    "\n",
    "print(x.shape)\n",
    "print(sub.shape)"
   ]
  },
  {
   "attachments": {},
   "cell_type": "markdown",
   "id": "52854897",
   "metadata": {},
   "source": [
    "##### Averaging"
   ]
  },
  {
   "cell_type": "code",
   "execution_count": 3,
   "id": "ff25d825",
   "metadata": {},
   "outputs": [],
   "source": [
    "gboost = GradientBoostingRegressor(random_state=2023)\n",
    "xgboost = xgb.XGBRegressor(random_state=2023)\n",
    "lightgbm = lgb.LGBMRegressor(random_state=2023)\n",
    "\n",
    "models = [{'model':gboost, 'name':'GradientBoosting'}, {'model':xgboost, 'name':'XGBoost'},\n",
    "          {'model':lightgbm, 'name':'LightGBM'}]"
   ]
  },
  {
   "attachments": {},
   "cell_type": "markdown",
   "id": "868d0fab",
   "metadata": {},
   "source": [
    "##### Cross Validation Function"
   ]
  },
  {
   "cell_type": "code",
   "execution_count": 4,
   "id": "86dd94df",
   "metadata": {},
   "outputs": [],
   "source": [
    "def get_cv_score(models):\n",
    "    kfold = KFold(n_splits=5).get_n_splits(x.values)\n",
    "    for m in models:\n",
    "        CV_score = np.mean(cross_val_score(m['model'], X=x.values, y=y, cv=kfold))\n",
    "        print(f\"Model: {m['name']}, CV score:{CV_score:.4f}\")"
   ]
  },
  {
   "cell_type": "code",
   "execution_count": 5,
   "id": "125ca2b5",
   "metadata": {},
   "outputs": [
    {
     "name": "stdout",
     "output_type": "stream",
     "text": [
      "Model: GradientBoosting, CV score:0.8609\n",
      "Model: XGBoost, CV score:0.8861\n",
      "Model: LightGBM, CV score:0.8819\n"
     ]
    }
   ],
   "source": [
    "get_cv_score(models)"
   ]
  },
  {
   "attachments": {},
   "cell_type": "markdown",
   "id": "22928c8f",
   "metadata": {},
   "source": [
    "##### Ensemble (Averaging Blending)"
   ]
  },
  {
   "cell_type": "code",
   "execution_count": 24,
   "id": "5a75376a",
   "metadata": {},
   "outputs": [
    {
     "name": "stdout",
     "output_type": "stream",
     "text": [
      "[[ 2.01410000e+05  1.38629436e+00  1.00000000e+00 ... -1.22257000e+02\n",
      "   1.34000000e+03  5.65000000e+03]\n",
      " [ 2.01502000e+05  1.09861229e+00  1.00000000e+00 ... -1.22233000e+02\n",
      "   2.72000000e+03  8.06200000e+03]\n",
      " [ 2.01502000e+05  1.38629436e+00  2.00000000e+00 ... -1.22045000e+02\n",
      "   1.80000000e+03  7.50300000e+03]\n",
      " ...\n",
      " [ 2.01405000e+05  1.38629436e+00  2.50000000e+00 ... -1.22346000e+02\n",
      "   1.53000000e+03  1.50900000e+03]\n",
      " [ 2.01502000e+05  1.60943791e+00  2.50000000e+00 ... -1.22362000e+02\n",
      "   1.83000000e+03  7.20000000e+03]\n",
      " [ 2.01410000e+05  1.09861229e+00  7.50000000e-01 ... -1.22299000e+02\n",
      "   1.02000000e+03  1.35700000e+03]]\n"
     ]
    }
   ],
   "source": [
    "def AveragingBlending(models, x, y, sub_x):\n",
    "    # Use x and y to train models\n",
    "    # x : Pandas DataFrame object\n",
    "    # x.values : NumPy array form\n",
    "    for m in models : \n",
    "        m['model'].fit(x.values, y)\n",
    "    \n",
    "    # Model prediction using sub_x\n",
    "    # Store the prediction results into predictions\n",
    "    predictions = np.column_stack([\n",
    "        m['model'].predict(sub_x.values) for m in models\n",
    "    ])\n",
    "\n",
    "    # Return mean of each model\n",
    "    return np.mean(predictions, axis=1)\n",
    "\n",
    "# print(models)\n",
    "# sub.head()\n",
    "# x.head()\n",
    "# print(x.values)"
   ]
  },
  {
   "cell_type": "code",
   "execution_count": 17,
   "id": "24257ebb",
   "metadata": {},
   "outputs": [
    {
     "name": "stdout",
     "output_type": "stream",
     "text": [
      "6468\n"
     ]
    },
    {
     "data": {
      "text/plain": [
       "array([ 529966.66304912,  430726.21272617, 1361676.91242777, ...,\n",
       "        452081.69137012,  341572.97685942,  421725.1231835 ])"
      ]
     },
     "execution_count": 17,
     "metadata": {},
     "output_type": "execute_result"
    }
   ],
   "source": [
    "y_pred = AveragingBlending(models, x, y, sub)\n",
    "print(len(y_pred))\n",
    "y_pred"
   ]
  },
  {
   "cell_type": "code",
   "execution_count": 25,
   "id": "b33fb068",
   "metadata": {},
   "outputs": [
    {
     "data": {
      "text/html": [
       "<div>\n",
       "<style scoped>\n",
       "    .dataframe tbody tr th:only-of-type {\n",
       "        vertical-align: middle;\n",
       "    }\n",
       "\n",
       "    .dataframe tbody tr th {\n",
       "        vertical-align: top;\n",
       "    }\n",
       "\n",
       "    .dataframe thead th {\n",
       "        text-align: right;\n",
       "    }\n",
       "</style>\n",
       "<table border=\"1\" class=\"dataframe\">\n",
       "  <thead>\n",
       "    <tr style=\"text-align: right;\">\n",
       "      <th></th>\n",
       "      <th>id</th>\n",
       "      <th>price</th>\n",
       "    </tr>\n",
       "  </thead>\n",
       "  <tbody>\n",
       "    <tr>\n",
       "      <th>0</th>\n",
       "      <td>15035</td>\n",
       "      <td>5.299667e+05</td>\n",
       "    </tr>\n",
       "    <tr>\n",
       "      <th>1</th>\n",
       "      <td>15036</td>\n",
       "      <td>4.307262e+05</td>\n",
       "    </tr>\n",
       "    <tr>\n",
       "      <th>2</th>\n",
       "      <td>15037</td>\n",
       "      <td>1.361677e+06</td>\n",
       "    </tr>\n",
       "    <tr>\n",
       "      <th>3</th>\n",
       "      <td>15038</td>\n",
       "      <td>3.338036e+05</td>\n",
       "    </tr>\n",
       "    <tr>\n",
       "      <th>4</th>\n",
       "      <td>15039</td>\n",
       "      <td>3.089006e+05</td>\n",
       "    </tr>\n",
       "  </tbody>\n",
       "</table>\n",
       "</div>"
      ],
      "text/plain": [
       "      id         price\n",
       "0  15035  5.299667e+05\n",
       "1  15036  4.307262e+05\n",
       "2  15037  1.361677e+06\n",
       "3  15038  3.338036e+05\n",
       "4  15039  3.089006e+05"
      ]
     },
     "execution_count": 25,
     "metadata": {},
     "output_type": "execute_result"
    }
   ],
   "source": [
    "result = pd.DataFrame({\n",
    "    'id' : sub_id,\n",
    "    'price' : y_pred\n",
    "})\n",
    "\n",
    "result.head()"
   ]
  },
  {
   "cell_type": "code",
   "execution_count": 26,
   "id": "c1176120",
   "metadata": {},
   "outputs": [],
   "source": [
    "submission_path = './data/submission.csv'\n",
    "\n",
    "result.to_csv(submission_path, index=False)"
   ]
  },
  {
   "attachments": {},
   "cell_type": "markdown",
   "id": "b54bbd16",
   "metadata": {},
   "source": [
    "##### Better Model"
   ]
  },
  {
   "cell_type": "code",
   "execution_count": 28,
   "id": "4494ef2b",
   "metadata": {},
   "outputs": [],
   "source": [
    "train = x\n",
    "test = sub\n",
    "\n",
    "# Need to use expm1 after model prediction\n",
    "y = np.log1p(y)"
   ]
  },
  {
   "cell_type": "code",
   "execution_count": 30,
   "id": "3f97f714",
   "metadata": {},
   "outputs": [],
   "source": [
    "from sklearn.model_selection import train_test_split\n",
    "from sklearn.metrics import mean_squared_error"
   ]
  },
  {
   "cell_type": "code",
   "execution_count": 31,
   "id": "91f2548f",
   "metadata": {},
   "outputs": [],
   "source": [
    "def rmse(y_test, y_pred):\n",
    "    return np.sqrt(mean_squared_error(np.expm1(y_test), np.expm1(y_pred)))"
   ]
  }
 ],
 "metadata": {
  "hide_input": false,
  "kernelspec": {
   "display_name": "Python 3 (ipykernel)",
   "language": "python",
   "name": "python3"
  },
  "language_info": {
   "codemirror_mode": {
    "name": "ipython",
    "version": 3
   },
   "file_extension": ".py",
   "mimetype": "text/x-python",
   "name": "python",
   "nbconvert_exporter": "python",
   "pygments_lexer": "ipython3",
   "version": "3.8.16"
  },
  "toc": {
   "base_numbering": 1,
   "nav_menu": {},
   "number_sections": true,
   "sideBar": true,
   "skip_h1_title": false,
   "title_cell": "Table of Contents",
   "title_sidebar": "Contents",
   "toc_cell": false,
   "toc_position": {},
   "toc_section_display": true,
   "toc_window_display": false
  }
 },
 "nbformat": 4,
 "nbformat_minor": 5
}
